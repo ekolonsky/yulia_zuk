{
  "nbformat": 4,
  "nbformat_minor": 0,
  "metadata": {
    "colab": {
      "name": "YZ_collect.ipynb",
      "provenance": [],
      "authorship_tag": "ABX9TyM1MqqNmNq8XjpT+wvbyW87",
      "include_colab_link": true
    },
    "kernelspec": {
      "name": "python3",
      "display_name": "Python 3"
    },
    "language_info": {
      "name": "python"
    }
  },
  "cells": [
    {
      "cell_type": "markdown",
      "metadata": {
        "id": "view-in-github",
        "colab_type": "text"
      },
      "source": [
        "<a href=\"https://colab.research.google.com/github/ekolonsky/yulia_zuk/blob/main/YZ_collect.ipynb\" target=\"_parent\"><img src=\"https://colab.research.google.com/assets/colab-badge.svg\" alt=\"Open In Colab\"/></a>"
      ]
    },
    {
      "cell_type": "code",
      "execution_count": null,
      "metadata": {
        "id": "lUVHKoGATtGJ"
      },
      "outputs": [],
      "source": [
        "import urllib, re\n",
        "from bs4 import BeautifulSoup\n",
        "\n",
        "url = 'https://yuliazuk.kolonsky.online/search?updated-max=2022-05-26T00:07:00-08:00&max-results=500'\n",
        "\n",
        "req = urllib.request.Request(url)\n",
        "resp = urllib.request.urlopen(req)\n",
        "respData = resp.read().decode('utf-8')\n",
        "\n",
        "    \n"
      ]
    },
    {
      "cell_type": "code",
      "source": [
        "def get_song(url):\n",
        "  req = urllib.request.Request(url)\n",
        "  resp = urllib.request.urlopen(req)\n",
        "  respData = resp.read().decode('utf-8')\n",
        "  #header\n",
        "  start = '<meta content='\n",
        "  finish = 'og:title'\n",
        "  i2 = respData.find(finish) - len('property= ')\n",
        "  i1 = respData[:i2].rfind(start) + len(start)\n",
        "  title = respData[i1:i2]\n",
        "\n",
        "  start = '<meta content='\n",
        "  finish = 'og:description'\n",
        "  i4 = respData.find(finish) - len('property= ')\n",
        "  i3 = respData[:i4].rfind(start) + len(start)\n",
        "  description = respData[i3:i4]\n",
        "\n",
        "  return title, description\n"
      ],
      "metadata": {
        "id": "ppH5vDjBU_nR"
      },
      "execution_count": null,
      "outputs": []
    },
    {
      "cell_type": "code",
      "source": [
        "songs = {}\n",
        "respSoup = BeautifulSoup(respData)\n",
        "for h3 in respSoup.find_all('a'):\n",
        "  if str.find(str(h3), 'blog-post') > 0:\n",
        "    link = h3.get(\"href\")\n",
        "    title, text = get_song(link)\n",
        "    print(title)\n",
        "    songs[title] = text"
      ],
      "metadata": {
        "colab": {
          "base_uri": "https://localhost:8080/"
        },
        "id": "Hm8K3GOBVOe7",
        "outputId": "758f88e1-aa08-4c6c-994d-3b05cdf771b1"
      },
      "execution_count": null,
      "outputs": [
        {
          "output_type": "stream",
          "name": "stdout",
          "text": [
            "'В черном  ящике' \n",
            "'В черном  ящике' \n",
            "'Богу' \n",
            "'Богу' \n",
            "'Каю' \n",
            "'Каю' \n",
            "'Если бы мы хотели вместе не умирать' \n",
            "'Если бы мы хотели вместе не умирать' \n",
            "'Сонет № 15 И снова в наш город вернулась полярная ночь' \n",
            "'Сонет № 15 И снова в наш город вернулась полярная ночь' \n",
            "'Измерение осени' \n",
            "'Измерение осени' \n",
            "'Я себя прощаю' \n",
            "'Я себя прощаю' \n",
            "'я бы снова писала' \n",
            "'я бы снова писала' \n",
            "'О' \n",
            "'О' \n",
            "'Года, как листья, сбросив под дожди' \n",
            "'Года, как листья, сбросив под дожди' \n",
            "' Двадцать шагов' \n",
            "' Двадцать шагов' \n",
            "'Та, с ароматом яблока и мёда' \n",
            "'Та, с ароматом яблока и мёда' \n",
            "'О ней' \n",
            "'О ней' \n",
            "'Удовольствие' \n",
            "'Удовольствие' \n",
            "'Сейчас я напишу' \n",
            "'Сейчас я напишу' \n",
            "'Два взрослых дракона...' \n",
            "'Два взрослых дракона...' \n",
            "'Стихи не отпускают как земля' \n",
            "'Стихи не отпускают как земля' \n",
            "'Единорог' \n",
            "'Единорог' \n",
            "'Между нашими мирами' \n",
            "'Между нашими мирами' \n",
            "'Они существуют' \n",
            "'Они существуют' \n",
            "'Мой названный брат' \n",
            "'Мой названный брат' \n",
            "'Мы стайные' \n",
            "'Мы стайные' \n",
            "'Волна' \n",
            "'Волна' \n",
            "'Хокку разных лет' \n",
            "'Хокку разных лет' \n",
            "'Поле боя потерянных лет' \n",
            "'Поле боя потерянных лет' \n",
            "'Фигура и фон' \n",
            "'Фигура и фон' \n",
            "'Моя полиция. Цветные сны' \n",
            "'Моя полиция. Цветные сны' \n",
            "'И они пришли и съели ее друзей' \n",
            "'И они пришли и съели ее друзей' \n",
            "'Не болит' \n",
            "'Не болит' \n",
            "'О камне' \n",
            "'О камне' \n",
            "'Клубника. Цветные сны ' \n",
            "'Клубника. Цветные сны ' \n",
            "'Воспоминания' \n",
            "'Воспоминания' \n",
            "'Настроение' \n",
            "'Настроение' \n",
            "'Ритуал' \n",
            "'Ритуал' \n",
            "'Город смотрит ' \n",
            "'Город смотрит ' \n",
            "'От камня брошенного в пруд' \n",
            "'От камня брошенного в пруд' \n",
            "'Верь' \n",
            "'Верь' \n",
            "'Что ты делаешь со мною' \n",
            "'Что ты делаешь со мною' \n",
            "'звучу' \n",
            "'звучу' \n",
            "'А вдруг...' \n",
            "'А вдруг...' \n",
            "'Метельное' \n",
            "'Метельное' \n",
            "'Лиственное' \n",
            "'Лиственное' \n",
            "'Норм' \n",
            "'Норм' \n",
            "'&quot;Нет&quot;' \n",
            "'&quot;Нет&quot;' \n",
            "'Про любовь' \n",
            "'Про любовь' \n",
            "'Про любовь' \n",
            "'Ты будешь меня искать?' \n",
            "'Ты будешь меня искать?' \n",
            "'Осколки зеркала' \n",
            "'Осколки зеркала' \n",
            "'Ты зря боишься' \n",
            "'Ты зря боишься' \n",
            "'Плетешь из слов затейливый узор' \n",
            "'Плетешь из слов затейливый узор' \n",
            "'Карандаш' \n",
            "'Карандаш' \n",
            "'По эту сторону... ' \n",
            "'По эту сторону... ' \n",
            "'Кто тебя, девочка...?' \n",
            "'Кто тебя, девочка...?' \n",
            "'Заметают снега...' \n",
            "'Заметают снега...' \n",
            "'в этом маленьком неустойчивом &quot;хорошо&quot;...' \n",
            "'в этом маленьком неустойчивом &quot;хорошо&quot;...' \n",
            "'Васильковое варенье' \n",
            "'Васильковое варенье' \n",
            "'Ты говоришь...' \n",
            "'Ты говоришь...' \n",
            "'А в порту на рояле сегодня играет Бог' \n",
            "'А в порту на рояле сегодня играет Бог' \n",
            "'Не та' \n",
            "'Не та' \n",
            "'Наждак' \n",
            "'Наждак' \n",
            "'Когда ушла любовь' \n",
            "'Когда ушла любовь' \n",
            "'Как первые люди на первом плоту' \n",
            "'Как первые люди на первом плоту' \n",
            "'Фонарное' \n",
            "'Фонарное' \n",
            "'Кода' \n",
            "'Кода' \n",
            "'Забудь... не забывай ' \n",
            "'Забудь... не забывай ' \n",
            "'Ее город' \n",
            "'Ее город' \n",
            "'эти женщины' \n",
            "'эти женщины' \n",
            "'Уроборос' \n",
            "'Уроборос' \n",
            "'смерть' \n",
            "'смерть' \n",
            "'птица, лети' \n",
            "'птица, лети' \n",
            "'Прошлые жизни' \n",
            "'Прошлые жизни' \n",
            "'Когда ты уходишь...' \n",
            "'Когда ты уходишь...' \n",
            "'Колдовской мир (начало)' \n",
            "'Колдовской мир (начало)' \n",
            "'Колдовской мир (начало)' \n",
            "'Человек человеку - пруд. ' \n",
            "'Человек человеку - пруд. ' \n",
            "'В стране несбыточных мечтаний ' \n",
            "'В стране несбыточных мечтаний ' \n",
            "'Еще раз' \n",
            "'Еще раз' \n",
            "'Я тебя не отпускаю' \n",
            "'Я тебя не отпускаю' \n",
            "'Консервация или размножение?' \n",
            "'Консервация или размножение?' \n",
            "'А я никогда не бываю... ' \n",
            "'А я никогда не бываю... ' \n",
            "'Непроясненность' \n",
            "'Непроясненность' \n",
            "'Геометрическое' \n",
            "'Геометрическое' \n",
            "'Болотные истории. Длинноногий Журавль.' \n",
            "'Болотные истории. Длинноногий Журавль.' \n",
            "'Болотные истории. Жаба-путешественница.' \n",
            "'Болотные истории. Жаба-путешественница.' \n",
            "'Мой бедный разум глух к чужим страстям' \n",
            "'Мой бедный разум глух к чужим страстям' \n",
            "'когда-нибудь' \n",
            "'когда-нибудь' \n",
            "'Глаза у ночи синие-синие' \n",
            "'Глаза у ночи синие-синие' \n",
            "'В черном  ящике' \n",
            "'Антология сетевой поэзии &quot;Взгляд белой кошки&quot;' \n"
          ]
        }
      ]
    },
    {
      "cell_type": "code",
      "source": [
        "len(songs)"
      ],
      "metadata": {
        "colab": {
          "base_uri": "https://localhost:8080/"
        },
        "id": "Rk4F0y_Ll6-G",
        "outputId": "59da89d0-e7b9-4560-930b-4a09c956d48f"
      },
      "execution_count": null,
      "outputs": [
        {
          "output_type": "execute_result",
          "data": {
            "text/plain": [
              "86"
            ]
          },
          "metadata": {},
          "execution_count": 139
        }
      ]
    },
    {
      "cell_type": "code",
      "source": [
        "from google.colab import files\n",
        "  \n",
        "with open('yz_songs.txt', 'w', encoding='utf-8') as file:\n",
        "     for song in songs:\n",
        "       file.write('>> ' +song+'\\n\\n')\n",
        "       file.write(songs[song].strip()+'\\n\\n')\n",
        "files.download('yz_songs.txt')"
      ],
      "metadata": {
        "colab": {
          "base_uri": "https://localhost:8080/",
          "height": 17
        },
        "id": "47oQzzEsl967",
        "outputId": "c2e25e29-b7da-470f-dc34-bef07fc34085"
      },
      "execution_count": null,
      "outputs": [
        {
          "output_type": "display_data",
          "data": {
            "text/plain": [
              "<IPython.core.display.Javascript object>"
            ],
            "application/javascript": [
              "\n",
              "    async function download(id, filename, size) {\n",
              "      if (!google.colab.kernel.accessAllowed) {\n",
              "        return;\n",
              "      }\n",
              "      const div = document.createElement('div');\n",
              "      const label = document.createElement('label');\n",
              "      label.textContent = `Downloading \"${filename}\": `;\n",
              "      div.appendChild(label);\n",
              "      const progress = document.createElement('progress');\n",
              "      progress.max = size;\n",
              "      div.appendChild(progress);\n",
              "      document.body.appendChild(div);\n",
              "\n",
              "      const buffers = [];\n",
              "      let downloaded = 0;\n",
              "\n",
              "      const channel = await google.colab.kernel.comms.open(id);\n",
              "      // Send a message to notify the kernel that we're ready.\n",
              "      channel.send({})\n",
              "\n",
              "      for await (const message of channel.messages) {\n",
              "        // Send a message to notify the kernel that we're ready.\n",
              "        channel.send({})\n",
              "        if (message.buffers) {\n",
              "          for (const buffer of message.buffers) {\n",
              "            buffers.push(buffer);\n",
              "            downloaded += buffer.byteLength;\n",
              "            progress.value = downloaded;\n",
              "          }\n",
              "        }\n",
              "      }\n",
              "      const blob = new Blob(buffers, {type: 'application/binary'});\n",
              "      const a = document.createElement('a');\n",
              "      a.href = window.URL.createObjectURL(blob);\n",
              "      a.download = filename;\n",
              "      div.appendChild(a);\n",
              "      a.click();\n",
              "      div.remove();\n",
              "    }\n",
              "  "
            ]
          },
          "metadata": {}
        },
        {
          "output_type": "display_data",
          "data": {
            "text/plain": [
              "<IPython.core.display.Javascript object>"
            ],
            "application/javascript": [
              "download(\"download_8eb11b28-e4ac-4dd1-9dd1-9ae6563390de\", \"yz_songs.txt\", 25328)"
            ]
          },
          "metadata": {}
        }
      ]
    },
    {
      "cell_type": "code",
      "source": [
        ""
      ],
      "metadata": {
        "id": "OAqfNDuamx2V"
      },
      "execution_count": null,
      "outputs": []
    }
  ]
}