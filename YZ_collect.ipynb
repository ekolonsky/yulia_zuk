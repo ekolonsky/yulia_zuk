{
  "nbformat": 4,
  "nbformat_minor": 0,
  "metadata": {
    "colab": {
      "name": "YZ_collect.ipynb",
      "provenance": [],
      "authorship_tag": "ABX9TyPpHEdCzkFYm10Cz7hOJqeP",
      "include_colab_link": true
    },
    "kernelspec": {
      "name": "python3",
      "display_name": "Python 3"
    },
    "language_info": {
      "name": "python"
    }
  },
  "cells": [
    {
      "cell_type": "markdown",
      "metadata": {
        "id": "view-in-github",
        "colab_type": "text"
      },
      "source": [
        "<a href=\"https://colab.research.google.com/github/ekolonsky/yulia_zuk/blob/main/YZ_collect.ipynb\" target=\"_parent\"><img src=\"https://colab.research.google.com/assets/colab-badge.svg\" alt=\"Open In Colab\"/></a>"
      ]
    },
    {
      "cell_type": "code",
      "execution_count": 276,
      "metadata": {
        "id": "lUVHKoGATtGJ"
      },
      "outputs": [],
      "source": [
        "import urllib, re, time\n",
        "from bs4 import BeautifulSoup\n",
        "\n",
        "url = 'https://yuliazuk.kolonsky.online/search?updated-max=2022-05-26T00:07:00-08:00&max-results=500'\n",
        "\n",
        "req = urllib.request.Request(url)\n",
        "resp = urllib.request.urlopen(req)\n",
        "respData = resp.read().decode('utf-8')\n",
        "\n",
        "    \n"
      ]
    },
    {
      "cell_type": "code",
      "source": [
        "def get_song(url):\n",
        "  req = urllib.request.Request(url, time.sleep(0.1))\n",
        "  resp = urllib.request.urlopen(req)\n",
        "  respData = resp.read().decode('utf-8')\n",
        "  respSoup = BeautifulSoup(respData)\n",
        "  for snippet in respSoup.find_all('div'):\n",
        "    c = snippet.get(\"class\")\n",
        "    if type(c) is list and c[0] == 'post-body':\n",
        "      ans = \"\"\n",
        "      for item in snippet.contents:\n",
        "        line = str(item)\n",
        "        if not( str.find(line, 'style')>0  or str.find(line, 'MsoNormal')>0) :\n",
        "          ans += '\\n'+line\n",
        "  ans = ans.replace('&nbsp',' ')\n",
        "  ans = ans.replace('<br>','\\n') \n",
        "  ans = ans.replace('<br />','\\n') \n",
        "  ans = ans.replace('<br/>','\\n') \n",
        "  ans = ans.replace('<p>','') \n",
        "  ans = ans.replace('<div>','') \n",
        "  ans = ans.replace('</div>','') \n",
        "  ans = ans.replace('\\xa0','') \n",
        "  ans = ans.replace('&quot','\"') \n",
        "  body = ans.replace('</p>','\\n') \n",
        "\n",
        "  for snippet in respSoup.find_all('h3'):\n",
        "    c = snippet.get(\"class\")\n",
        "    if type(c) is list and c[0] == 'post-title':\n",
        "      title = ' '.join([str(x) for x in snippet.contents])\n",
        "  return title, body\n"
      ],
      "metadata": {
        "id": "ppH5vDjBU_nR"
      },
      "execution_count": 309,
      "outputs": []
    },
    {
      "cell_type": "code",
      "source": [
        "songs = {}\n",
        "respSoup = BeautifulSoup(respData)\n",
        "for a in respSoup.find_all('a'):\n",
        "  s = str(a)\n",
        "  if str.find(s, 'blog-post.html') > 0 and str.find(s, 'timestamp') <1 and str.find(s, 'img') <1:\n",
        "    link = a.get(\"href\")\n",
        "    title, text = get_song(link)\n",
        "    print(title)\n",
        "    songs[title] =  text"
      ],
      "metadata": {
        "id": "Hm8K3GOBVOe7"
      },
      "execution_count": null,
      "outputs": []
    },
    {
      "cell_type": "code",
      "source": [
        "songs\n"
      ],
      "metadata": {
        "id": "ou3735Bsz82S"
      },
      "execution_count": null,
      "outputs": []
    },
    {
      "cell_type": "code",
      "source": [
        "from google.colab import files\n",
        "  \n",
        "with open('yz_songs.txt', 'w', encoding='utf-8') as file:\n",
        "     for song in songs:\n",
        "       file.write('>> ' + song+'\\n\\n')\n",
        "       file.write(songs[song].strip()+'\\n')\n",
        "files.download('yz_songs.txt')"
      ],
      "metadata": {
        "colab": {
          "base_uri": "https://localhost:8080/",
          "height": 17
        },
        "id": "47oQzzEsl967",
        "outputId": "9b8292b3-4a18-4954-8cf0-75afbd3c4299"
      },
      "execution_count": 311,
      "outputs": [
        {
          "output_type": "display_data",
          "data": {
            "text/plain": [
              "<IPython.core.display.Javascript object>"
            ],
            "application/javascript": [
              "\n",
              "    async function download(id, filename, size) {\n",
              "      if (!google.colab.kernel.accessAllowed) {\n",
              "        return;\n",
              "      }\n",
              "      const div = document.createElement('div');\n",
              "      const label = document.createElement('label');\n",
              "      label.textContent = `Downloading \"${filename}\": `;\n",
              "      div.appendChild(label);\n",
              "      const progress = document.createElement('progress');\n",
              "      progress.max = size;\n",
              "      div.appendChild(progress);\n",
              "      document.body.appendChild(div);\n",
              "\n",
              "      const buffers = [];\n",
              "      let downloaded = 0;\n",
              "\n",
              "      const channel = await google.colab.kernel.comms.open(id);\n",
              "      // Send a message to notify the kernel that we're ready.\n",
              "      channel.send({})\n",
              "\n",
              "      for await (const message of channel.messages) {\n",
              "        // Send a message to notify the kernel that we're ready.\n",
              "        channel.send({})\n",
              "        if (message.buffers) {\n",
              "          for (const buffer of message.buffers) {\n",
              "            buffers.push(buffer);\n",
              "            downloaded += buffer.byteLength;\n",
              "            progress.value = downloaded;\n",
              "          }\n",
              "        }\n",
              "      }\n",
              "      const blob = new Blob(buffers, {type: 'application/binary'});\n",
              "      const a = document.createElement('a');\n",
              "      a.href = window.URL.createObjectURL(blob);\n",
              "      a.download = filename;\n",
              "      div.appendChild(a);\n",
              "      a.click();\n",
              "      div.remove();\n",
              "    }\n",
              "  "
            ]
          },
          "metadata": {}
        },
        {
          "output_type": "display_data",
          "data": {
            "text/plain": [
              "<IPython.core.display.Javascript object>"
            ],
            "application/javascript": [
              "download(\"download_62c1a026-cc3b-4efc-a5cd-69adca566d31\", \"yz_songs.txt\", 62328)"
            ]
          },
          "metadata": {}
        }
      ]
    },
    {
      "cell_type": "code",
      "source": [
        ""
      ],
      "metadata": {
        "id": "POU8iCTp0tzC"
      },
      "execution_count": null,
      "outputs": []
    }
  ]
}